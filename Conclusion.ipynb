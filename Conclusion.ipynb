{
 "cells": [
  {
   "cell_type": "code",
   "execution_count": 2,
   "id": "7228ad19",
   "metadata": {
    "ExecuteTime": {
     "end_time": "2024-03-24T02:57:02.546972Z",
     "start_time": "2024-03-24T02:57:01.560435Z"
    }
   },
   "outputs": [],
   "source": [
    "import pandas as pd\n",
    "import numpy as np\n",
    "import matplotlib.pyplot as plt\n",
    "\n",
    "import warnings\n",
    "\n",
    "warnings.filterwarnings('ignore')\n"
   ]
  },
  {
   "cell_type": "code",
   "execution_count": 64,
   "id": "c0a1ee10",
   "metadata": {
    "ExecuteTime": {
     "end_time": "2024-03-24T03:23:56.019400Z",
     "start_time": "2024-03-24T03:23:56.001753Z"
    }
   },
   "outputs": [],
   "source": [
    "# feat_df = pd.read_csv('exp\\gen_data\\Conclusion.csv')\n",
    "# conclusion_df = pd.read_csv('exp\\gen_data\\Conclusion.csv')\n",
    "\n",
    "feat_df_swat = pd.read_csv('exp\\SWat2019\\Feature__Maxerror.csv')\n",
    "conclusion_df_swat = pd.read_csv('exp\\SWat2019\\Conclusion.csv')"
   ]
  },
  {
   "cell_type": "markdown",
   "id": "d7b3902d",
   "metadata": {},
   "source": [
    "# Algorithms"
   ]
  },
  {
   "cell_type": "markdown",
   "id": "291aa82d",
   "metadata": {},
   "source": [
    "## Preprocess"
   ]
  },
  {
   "cell_type": "markdown",
   "id": "6fb5ca25",
   "metadata": {},
   "source": [
    "## Swat"
   ]
  },
  {
   "cell_type": "code",
   "execution_count": 86,
   "id": "52adaf59",
   "metadata": {
    "ExecuteTime": {
     "end_time": "2024-03-24T03:27:02.432567Z",
     "start_time": "2024-03-24T03:27:02.423016Z"
    }
   },
   "outputs": [],
   "source": [
    "Id = ['LIT 301','MV 501','MV201','P101 Status','P301 Status','P601 Status']\n",
    "cyclic = ['Yes','No','Yes','Yes','No','Yes']"
   ]
  },
  {
   "cell_type": "code",
   "execution_count": 87,
   "id": "91ef55f1",
   "metadata": {
    "ExecuteTime": {
     "end_time": "2024-03-24T03:27:03.071783Z",
     "start_time": "2024-03-24T03:27:03.064260Z"
    }
   },
   "outputs": [],
   "source": [
    "cyclic_df = pd.DataFrame({'Id': Id, 'cyclic': cyclic}).set_index('Id')"
   ]
  },
  {
   "cell_type": "code",
   "execution_count": 67,
   "id": "819ccefb",
   "metadata": {
    "ExecuteTime": {
     "end_time": "2024-03-24T03:23:56.950810Z",
     "start_time": "2024-03-24T03:23:56.933238Z"
    }
   },
   "outputs": [],
   "source": [
    "conclusion_df_swat['min(max_error)'] = conclusion_df_swat['min(max_error)'].fillna(conclusion_df_swat['min'])\n",
    "conclusion_df_swat['max(max_error)'] = conclusion_df_swat['max(max_error)'].fillna(conclusion_df_swat['max'])\n",
    "conclusion_df_swat['Time Average(in range)'] = conclusion_df_swat['Time Average(in range)'].fillna(conclusion_df_swat['Time Average(s)'])"
   ]
  },
  {
   "cell_type": "code",
   "execution_count": 68,
   "id": "610ee47d",
   "metadata": {
    "ExecuteTime": {
     "end_time": "2024-03-24T03:23:57.371977Z",
     "start_time": "2024-03-24T03:23:57.363433Z"
    }
   },
   "outputs": [],
   "source": [
    "conclusion_df_swat = conclusion_df_swat.drop(columns=['min','max','Time Average(s)'],axis=1)"
   ]
  },
  {
   "cell_type": "markdown",
   "id": "7343be4e",
   "metadata": {},
   "source": [
    " ## 10 data gen"
   ]
  },
  {
   "cell_type": "code",
   "execution_count": 90,
   "id": "c4608fc1",
   "metadata": {
    "ExecuteTime": {
     "end_time": "2024-03-24T03:31:20.143762Z",
     "start_time": "2024-03-24T03:31:20.128081Z"
    }
   },
   "outputs": [],
   "source": [
    "cyclic = ['No','No','No','No','No','Yes','Yes','Yes','Yes','Yes']\n",
    "cyclic_df = pd.DataFrame({'Id': range(1,11), 'cyclic': cyclic}).set_index('Id')"
   ]
  },
  {
   "cell_type": "markdown",
   "id": "77267733",
   "metadata": {},
   "source": [
    "# nối  bảng conclusion_df_swat và conclusion_df rồi xử lí chung "
   ]
  },
  {
   "cell_type": "code",
   "execution_count": null,
   "id": "96c9949f",
   "metadata": {},
   "outputs": [],
   "source": []
  },
  {
   "cell_type": "code",
   "execution_count": 69,
   "id": "99654a5c",
   "metadata": {
    "ExecuteTime": {
     "end_time": "2024-03-24T03:23:57.544081Z",
     "start_time": "2024-03-24T03:23:57.537560Z"
    }
   },
   "outputs": [],
   "source": [
    "Topdown_df = conclusion_df_swat.loc[conclusion_df_swat['Algorithm']=='Top-down'].set_index('Id')\n",
    "Bottomup_df = conclusion_df_swat.loc[conclusion_df_swat['Algorithm']=='Bottom-up'].set_index('Id')\n",
    "Sldw_df = conclusion_df_swat.loc[conclusion_df_swat['Algorithm']=='Sliding-window'].set_index('Id')\n",
    "Swab_df = conclusion_df_swat.loc[conclusion_df_swat['Algorithm']=='SWAB'].set_index('Id')"
   ]
  },
  {
   "cell_type": "markdown",
   "id": "125c6ac4",
   "metadata": {},
   "source": [
    "Can detect if F1-score > 0.7"
   ]
  },
  {
   "cell_type": "code",
   "execution_count": 71,
   "id": "f0a82f16",
   "metadata": {
    "ExecuteTime": {
     "end_time": "2024-03-24T03:23:58.243261Z",
     "start_time": "2024-03-24T03:23:58.224224Z"
    }
   },
   "outputs": [],
   "source": [
    "Topdown_df['Detect'] = Topdown_df.apply(lambda x:'✔' if x['F1-score'] > 0.7 else '❌',axis=1 )\n",
    "Bottomup_df['Detect'] = Bottomup_df.apply(lambda x:'✔' if x['F1-score'] > 0.7 else '❌',axis=1 )\n",
    "Sldw_df['Detect'] = Sldw_df.apply(lambda x:'✔' if x['F1-score'] > 0.7 else '❌',axis=1 )\n",
    "Swab_df['Detect'] = Swab_df.apply(lambda x:'✔' if x['F1-score'] > 0.7 else '❌',axis=1 )"
   ]
  },
  {
   "cell_type": "code",
   "execution_count": 89,
   "id": "38c24943",
   "metadata": {
    "ExecuteTime": {
     "end_time": "2024-03-24T03:27:07.191380Z",
     "start_time": "2024-03-24T03:27:07.165028Z"
    }
   },
   "outputs": [
    {
     "data": {
      "text/html": [
       "<div>\n",
       "<style scoped>\n",
       "    .dataframe tbody tr th:only-of-type {\n",
       "        vertical-align: middle;\n",
       "    }\n",
       "\n",
       "    .dataframe tbody tr th {\n",
       "        vertical-align: top;\n",
       "    }\n",
       "\n",
       "    .dataframe thead th {\n",
       "        text-align: right;\n",
       "    }\n",
       "</style>\n",
       "<table border=\"1\" class=\"dataframe\">\n",
       "  <thead>\n",
       "    <tr style=\"text-align: right;\">\n",
       "      <th></th>\n",
       "      <th>Topdown</th>\n",
       "      <th>Bottomup</th>\n",
       "      <th>SlidingWindow</th>\n",
       "      <th>SWAB</th>\n",
       "      <th>Cyclic</th>\n",
       "    </tr>\n",
       "    <tr>\n",
       "      <th>id</th>\n",
       "      <th></th>\n",
       "      <th></th>\n",
       "      <th></th>\n",
       "      <th></th>\n",
       "      <th></th>\n",
       "    </tr>\n",
       "  </thead>\n",
       "  <tbody>\n",
       "    <tr>\n",
       "      <th>LIT 301</th>\n",
       "      <td>✔</td>\n",
       "      <td>✔</td>\n",
       "      <td>✔</td>\n",
       "      <td>✔</td>\n",
       "      <td>Yes</td>\n",
       "    </tr>\n",
       "    <tr>\n",
       "      <th>MV 501</th>\n",
       "      <td>✔</td>\n",
       "      <td>✔</td>\n",
       "      <td>✔</td>\n",
       "      <td>✔</td>\n",
       "      <td>No</td>\n",
       "    </tr>\n",
       "    <tr>\n",
       "      <th>MV201</th>\n",
       "      <td>❌</td>\n",
       "      <td>✔</td>\n",
       "      <td>❌</td>\n",
       "      <td>✔</td>\n",
       "      <td>Yes</td>\n",
       "    </tr>\n",
       "    <tr>\n",
       "      <th>P101 Status</th>\n",
       "      <td>❌</td>\n",
       "      <td>❌</td>\n",
       "      <td>❌</td>\n",
       "      <td>✔</td>\n",
       "      <td>Yes</td>\n",
       "    </tr>\n",
       "    <tr>\n",
       "      <th>P301 Status</th>\n",
       "      <td>✔</td>\n",
       "      <td>❌</td>\n",
       "      <td>❌</td>\n",
       "      <td>❌</td>\n",
       "      <td>No</td>\n",
       "    </tr>\n",
       "    <tr>\n",
       "      <th>P601 Status</th>\n",
       "      <td>✔</td>\n",
       "      <td>❌</td>\n",
       "      <td>✔</td>\n",
       "      <td>❌</td>\n",
       "      <td>Yes</td>\n",
       "    </tr>\n",
       "    <tr>\n",
       "      <th>Total</th>\n",
       "      <td>4.0</td>\n",
       "      <td>3.0</td>\n",
       "      <td>3.0</td>\n",
       "      <td>4.0</td>\n",
       "      <td>NaN</td>\n",
       "    </tr>\n",
       "  </tbody>\n",
       "</table>\n",
       "</div>"
      ],
      "text/plain": [
       "            Topdown Bottomup SlidingWindow SWAB Cyclic\n",
       "id                                                    \n",
       "LIT 301           ✔        ✔             ✔    ✔    Yes\n",
       "MV 501            ✔        ✔             ✔    ✔     No\n",
       "MV201             ❌        ✔             ❌    ✔    Yes\n",
       "P101 Status       ❌        ❌             ❌    ✔    Yes\n",
       "P301 Status       ✔        ❌             ❌    ❌     No\n",
       "P601 Status       ✔        ❌             ✔    ❌    Yes\n",
       "Total           4.0      3.0           3.0  4.0    NaN"
      ]
     },
     "execution_count": 89,
     "metadata": {},
     "output_type": "execute_result"
    }
   ],
   "source": [
    "detect_df = pd.DataFrame({'id': Id}).set_index('id')\n",
    "detect_df['Topdown'] = Topdown_df.Detect\n",
    "detect_df['Bottomup'] = Bottomup_df.Detect\n",
    "detect_df['SlidingWindow'] = Sldw_df.Detect\n",
    "detect_df['SWAB'] = Swab_df.Detect\n",
    "detect_df['Cyclic'] = cyclic_df\n",
    "\n",
    "\n",
    "\n",
    "sum_topdown = num_detect['Topdown'].sum()\n",
    "sum_bottomup = num_detect['Bottomup'].sum()\n",
    "sum_slidingwindow = num_detect['SlidingWindow'].sum()\n",
    "sum_swab = num_detect['SWAB'].sum()\n",
    "\n",
    "detect_df.loc['Total'] = [sum_topdown, sum_bottomup, sum_slidingwindow, sum_swab,None]\n",
    "\n",
    "detect_df"
   ]
  },
  {
   "cell_type": "markdown",
   "id": "95f6064b",
   "metadata": {},
   "source": [
    "# Max error"
   ]
  },
  {
   "cell_type": "code",
   "execution_count": 28,
   "id": "ec57eeea",
   "metadata": {
    "ExecuteTime": {
     "end_time": "2024-03-21T09:41:28.438762Z",
     "start_time": "2024-03-21T09:41:28.417341Z"
    }
   },
   "outputs": [
    {
     "data": {
      "text/html": [
       "<div>\n",
       "<style scoped>\n",
       "    .dataframe tbody tr th:only-of-type {\n",
       "        vertical-align: middle;\n",
       "    }\n",
       "\n",
       "    .dataframe tbody tr th {\n",
       "        vertical-align: top;\n",
       "    }\n",
       "\n",
       "    .dataframe thead th {\n",
       "        text-align: right;\n",
       "    }\n",
       "</style>\n",
       "<table border=\"1\" class=\"dataframe\">\n",
       "  <thead>\n",
       "    <tr style=\"text-align: right;\">\n",
       "      <th></th>\n",
       "      <th>id</th>\n",
       "      <th>Num_points</th>\n",
       "      <th>mean</th>\n",
       "      <th>median</th>\n",
       "      <th>variance</th>\n",
       "      <th>standard_deviation</th>\n",
       "      <th>absolute_sum_of_changes</th>\n",
       "      <th>mean_abs_change</th>\n",
       "      <th>kurtosis</th>\n",
       "      <th>minimum</th>\n",
       "      <th>maximum</th>\n",
       "      <th>Min(max_error)_Top_down</th>\n",
       "      <th>Max(max_error)_Top_down</th>\n",
       "      <th>Min(max_error)_Bottom_up</th>\n",
       "      <th>Max(max_error)_Bottom_up</th>\n",
       "      <th>Min(max_error)_SLDW</th>\n",
       "      <th>Max(max_error)_SLDW</th>\n",
       "      <th>Min(max_error)_SWAB</th>\n",
       "      <th>Max(max_error)_SWAB</th>\n",
       "      <th>Best(max_error)_SWAB</th>\n",
       "    </tr>\n",
       "  </thead>\n",
       "  <tbody>\n",
       "    <tr>\n",
       "      <th>0</th>\n",
       "      <td>2</td>\n",
       "      <td>8640</td>\n",
       "      <td>102.151881</td>\n",
       "      <td>100.286884</td>\n",
       "      <td>212.017664</td>\n",
       "      <td>14.560826</td>\n",
       "      <td>95822.993645</td>\n",
       "      <td>11.091908</td>\n",
       "      <td>4.776042</td>\n",
       "      <td>62.598994</td>\n",
       "      <td>181.709748</td>\n",
       "      <td>50000</td>\n",
       "      <td>350000</td>\n",
       "      <td>30000</td>\n",
       "      <td>90000</td>\n",
       "      <td>35000</td>\n",
       "      <td>150000</td>\n",
       "      <td>30000</td>\n",
       "      <td>90000</td>\n",
       "      <td>60000</td>\n",
       "    </tr>\n",
       "    <tr>\n",
       "      <th>1</th>\n",
       "      <td>1</td>\n",
       "      <td>8640</td>\n",
       "      <td>104.621483</td>\n",
       "      <td>100.014344</td>\n",
       "      <td>442.227086</td>\n",
       "      <td>21.029196</td>\n",
       "      <td>4986.149682</td>\n",
       "      <td>0.577167</td>\n",
       "      <td>16.640276</td>\n",
       "      <td>98.129950</td>\n",
       "      <td>201.585487</td>\n",
       "      <td>50</td>\n",
       "      <td>850000</td>\n",
       "      <td>50</td>\n",
       "      <td>10100</td>\n",
       "      <td>10000</td>\n",
       "      <td>550000</td>\n",
       "      <td>50</td>\n",
       "      <td>12500</td>\n",
       "      <td>4975</td>\n",
       "    </tr>\n",
       "    <tr>\n",
       "      <th>2</th>\n",
       "      <td>3</td>\n",
       "      <td>8640</td>\n",
       "      <td>105.479853</td>\n",
       "      <td>104.740898</td>\n",
       "      <td>27.596187</td>\n",
       "      <td>5.253207</td>\n",
       "      <td>4896.920656</td>\n",
       "      <td>0.566839</td>\n",
       "      <td>11.940497</td>\n",
       "      <td>98.632061</td>\n",
       "      <td>132.271730</td>\n",
       "      <td>4000</td>\n",
       "      <td>57500</td>\n",
       "      <td>100</td>\n",
       "      <td>625</td>\n",
       "      <td>2500</td>\n",
       "      <td>25000</td>\n",
       "      <td>100</td>\n",
       "      <td>600</td>\n",
       "      <td>350</td>\n",
       "    </tr>\n",
       "    <tr>\n",
       "      <th>3</th>\n",
       "      <td>4</td>\n",
       "      <td>8640</td>\n",
       "      <td>101.822061</td>\n",
       "      <td>101.317681</td>\n",
       "      <td>3.021211</td>\n",
       "      <td>1.738163</td>\n",
       "      <td>977.164373</td>\n",
       "      <td>0.113111</td>\n",
       "      <td>1.649976</td>\n",
       "      <td>99.734227</td>\n",
       "      <td>110.681462</td>\n",
       "      <td>1400</td>\n",
       "      <td>5000</td>\n",
       "      <td>0</td>\n",
       "      <td>100</td>\n",
       "      <td>400</td>\n",
       "      <td>1400</td>\n",
       "      <td>0</td>\n",
       "      <td>100</td>\n",
       "      <td>50</td>\n",
       "    </tr>\n",
       "    <tr>\n",
       "      <th>4</th>\n",
       "      <td>6</td>\n",
       "      <td>8640</td>\n",
       "      <td>104.766749</td>\n",
       "      <td>113.999449</td>\n",
       "      <td>5159.711223</td>\n",
       "      <td>71.831130</td>\n",
       "      <td>10003.014053</td>\n",
       "      <td>1.157890</td>\n",
       "      <td>-1.502673</td>\n",
       "      <td>-5.871039</td>\n",
       "      <td>202.953165</td>\n",
       "      <td>90000</td>\n",
       "      <td>5000000</td>\n",
       "      <td>25000</td>\n",
       "      <td>35000</td>\n",
       "      <td>40000</td>\n",
       "      <td>1000000</td>\n",
       "      <td>98</td>\n",
       "      <td>102</td>\n",
       "      <td>100</td>\n",
       "    </tr>\n",
       "    <tr>\n",
       "      <th>5</th>\n",
       "      <td>7</td>\n",
       "      <td>8640</td>\n",
       "      <td>102.895171</td>\n",
       "      <td>101.124826</td>\n",
       "      <td>13.689025</td>\n",
       "      <td>3.699868</td>\n",
       "      <td>975.726054</td>\n",
       "      <td>0.112944</td>\n",
       "      <td>-0.675163</td>\n",
       "      <td>94.723825</td>\n",
       "      <td>110.220648</td>\n",
       "      <td>30</td>\n",
       "      <td>450</td>\n",
       "      <td>2</td>\n",
       "      <td>25</td>\n",
       "      <td>30</td>\n",
       "      <td>140</td>\n",
       "      <td>2</td>\n",
       "      <td>25</td>\n",
       "      <td>10</td>\n",
       "    </tr>\n",
       "    <tr>\n",
       "      <th>6</th>\n",
       "      <td>8</td>\n",
       "      <td>8640</td>\n",
       "      <td>99.998457</td>\n",
       "      <td>99.999819</td>\n",
       "      <td>0.185628</td>\n",
       "      <td>0.430846</td>\n",
       "      <td>971.447477</td>\n",
       "      <td>0.112449</td>\n",
       "      <td>1.043627</td>\n",
       "      <td>98.715405</td>\n",
       "      <td>101.216021</td>\n",
       "      <td>5</td>\n",
       "      <td>30</td>\n",
       "      <td>1</td>\n",
       "      <td>4</td>\n",
       "      <td>1</td>\n",
       "      <td>10</td>\n",
       "      <td>1</td>\n",
       "      <td>4</td>\n",
       "      <td>2</td>\n",
       "    </tr>\n",
       "    <tr>\n",
       "      <th>7</th>\n",
       "      <td>9</td>\n",
       "      <td>8640</td>\n",
       "      <td>99.951207</td>\n",
       "      <td>99.996803</td>\n",
       "      <td>0.240128</td>\n",
       "      <td>0.490029</td>\n",
       "      <td>217.890120</td>\n",
       "      <td>0.025222</td>\n",
       "      <td>0.123460</td>\n",
       "      <td>98.939642</td>\n",
       "      <td>101.066830</td>\n",
       "      <td>500</td>\n",
       "      <td>1000</td>\n",
       "      <td>30</td>\n",
       "      <td>200</td>\n",
       "      <td>43</td>\n",
       "      <td>47</td>\n",
       "      <td>30</td>\n",
       "      <td>85</td>\n",
       "      <td>50</td>\n",
       "    </tr>\n",
       "    <tr>\n",
       "      <th>8</th>\n",
       "      <td>10</td>\n",
       "      <td>8640</td>\n",
       "      <td>100.005260</td>\n",
       "      <td>100.001092</td>\n",
       "      <td>0.207109</td>\n",
       "      <td>0.455093</td>\n",
       "      <td>221.400262</td>\n",
       "      <td>0.025628</td>\n",
       "      <td>0.444073</td>\n",
       "      <td>98.938823</td>\n",
       "      <td>101.061042</td>\n",
       "      <td>40</td>\n",
       "      <td>60</td>\n",
       "      <td>30</td>\n",
       "      <td>700</td>\n",
       "      <td>40</td>\n",
       "      <td>60</td>\n",
       "      <td>400</td>\n",
       "      <td>100000</td>\n",
       "      <td>50000</td>\n",
       "    </tr>\n",
       "    <tr>\n",
       "      <th>9</th>\n",
       "      <td>5</td>\n",
       "      <td>43200</td>\n",
       "      <td>103.250000</td>\n",
       "      <td>103.875000</td>\n",
       "      <td>inf</td>\n",
       "      <td>inf</td>\n",
       "      <td>3370.000000</td>\n",
       "      <td>0.112366</td>\n",
       "      <td>-0.695312</td>\n",
       "      <td>99.937500</td>\n",
       "      <td>110.812500</td>\n",
       "      <td>100</td>\n",
       "      <td>15000</td>\n",
       "      <td>50</td>\n",
       "      <td>100</td>\n",
       "      <td>100</td>\n",
       "      <td>300</td>\n",
       "      <td>20</td>\n",
       "      <td>100</td>\n",
       "      <td>75</td>\n",
       "    </tr>\n",
       "  </tbody>\n",
       "</table>\n",
       "</div>"
      ],
      "text/plain": [
       "   id  Num_points        mean      median     variance  standard_deviation  \\\n",
       "0   2        8640  102.151881  100.286884   212.017664           14.560826   \n",
       "1   1        8640  104.621483  100.014344   442.227086           21.029196   \n",
       "2   3        8640  105.479853  104.740898    27.596187            5.253207   \n",
       "3   4        8640  101.822061  101.317681     3.021211            1.738163   \n",
       "4   6        8640  104.766749  113.999449  5159.711223           71.831130   \n",
       "5   7        8640  102.895171  101.124826    13.689025            3.699868   \n",
       "6   8        8640   99.998457   99.999819     0.185628            0.430846   \n",
       "7   9        8640   99.951207   99.996803     0.240128            0.490029   \n",
       "8  10        8640  100.005260  100.001092     0.207109            0.455093   \n",
       "9   5       43200  103.250000  103.875000          inf                 inf   \n",
       "\n",
       "   absolute_sum_of_changes  mean_abs_change   kurtosis    minimum     maximum  \\\n",
       "0             95822.993645        11.091908   4.776042  62.598994  181.709748   \n",
       "1              4986.149682         0.577167  16.640276  98.129950  201.585487   \n",
       "2              4896.920656         0.566839  11.940497  98.632061  132.271730   \n",
       "3               977.164373         0.113111   1.649976  99.734227  110.681462   \n",
       "4             10003.014053         1.157890  -1.502673  -5.871039  202.953165   \n",
       "5               975.726054         0.112944  -0.675163  94.723825  110.220648   \n",
       "6               971.447477         0.112449   1.043627  98.715405  101.216021   \n",
       "7               217.890120         0.025222   0.123460  98.939642  101.066830   \n",
       "8               221.400262         0.025628   0.444073  98.938823  101.061042   \n",
       "9              3370.000000         0.112366  -0.695312  99.937500  110.812500   \n",
       "\n",
       "   Min(max_error)_Top_down  Max(max_error)_Top_down  Min(max_error)_Bottom_up  \\\n",
       "0                    50000                   350000                     30000   \n",
       "1                       50                   850000                        50   \n",
       "2                     4000                    57500                       100   \n",
       "3                     1400                     5000                         0   \n",
       "4                    90000                  5000000                     25000   \n",
       "5                       30                      450                         2   \n",
       "6                        5                       30                         1   \n",
       "7                      500                     1000                        30   \n",
       "8                       40                       60                        30   \n",
       "9                      100                    15000                        50   \n",
       "\n",
       "   Max(max_error)_Bottom_up  Min(max_error)_SLDW  Max(max_error)_SLDW  \\\n",
       "0                     90000                35000               150000   \n",
       "1                     10100                10000               550000   \n",
       "2                       625                 2500                25000   \n",
       "3                       100                  400                 1400   \n",
       "4                     35000                40000              1000000   \n",
       "5                        25                   30                  140   \n",
       "6                         4                    1                   10   \n",
       "7                       200                   43                   47   \n",
       "8                       700                   40                   60   \n",
       "9                       100                  100                  300   \n",
       "\n",
       "   Min(max_error)_SWAB  Max(max_error)_SWAB  Best(max_error)_SWAB  \n",
       "0                30000                90000                 60000  \n",
       "1                   50                12500                  4975  \n",
       "2                  100                  600                   350  \n",
       "3                    0                  100                    50  \n",
       "4                   98                  102                   100  \n",
       "5                    2                   25                    10  \n",
       "6                    1                    4                     2  \n",
       "7                   30                   85                    50  \n",
       "8                  400               100000                 50000  \n",
       "9                   20                  100                    75  "
      ]
     },
     "execution_count": 28,
     "metadata": {},
     "output_type": "execute_result"
    }
   ],
   "source": [
    "feat_df"
   ]
  },
  {
   "cell_type": "code",
   "execution_count": 34,
   "id": "20cd68d4",
   "metadata": {
    "ExecuteTime": {
     "end_time": "2024-03-21T09:46:24.250625Z",
     "start_time": "2024-03-21T09:46:24.233470Z"
    }
   },
   "outputs": [],
   "source": [
    "corr_feat_df = feat_df.corr()\n",
    "corr_feat_df = corr_feat_df.loc['Min(max_error)_Top_down':'Max(max_error)_SWAB',:'maximum']"
   ]
  },
  {
   "cell_type": "code",
   "execution_count": 105,
   "id": "7f9a3ef0",
   "metadata": {
    "ExecuteTime": {
     "end_time": "2024-03-22T02:53:57.079247Z",
     "start_time": "2024-03-22T02:53:56.409325Z"
    }
   },
   "outputs": [
    {
     "data": {
      "image/png": "[encoded data removed]",
      "text/plain": [
       "<Figure size 1000x1000 with 2 Axes>"
      ]
     },
     "metadata": {},
     "output_type": "display_data"
    }
   ],
   "source": [
    "plt.figure(figsize=(10, 10))\n",
    "plt.imshow(corr_feat_df, cmap='YlOrRd', interpolation='nearest')\n",
    "plt.colorbar(label='Correlation')\n",
    "plt.title('Correlation Matrix')\n",
    "\n",
    "for i in range(len(corr_feat_df.index)):\n",
    "    for j in range(len(corr_feat_df.columns)):\n",
    "        plt.text(j, i, f'{corr_feat_df.iloc[i, j]:.2f}', ha='center', va='center', color='white')\n",
    "\n",
    "plt.xticks(ticks=np.arange(len(corr_feat_df.columns)), labels=corr_feat_df.columns,rotation=90)\n",
    "plt.yticks(ticks=np.arange(len(corr_feat_df.index)), labels=corr_feat_df.index)\n",
    "plt.tight_layout()"
   ]
  },
  {
   "cell_type": "code",
   "execution_count": null,
   "id": "91a88ff6",
   "metadata": {},
   "outputs": [],
   "source": []
  },
  {
   "cell_type": "code",
   "execution_count": null,
   "id": "2ed16b8e",
   "metadata": {},
   "outputs": [],
   "source": []
  },
  {
   "cell_type": "code",
   "execution_count": null,
   "id": "d48dee85",
   "metadata": {},
   "outputs": [],
   "source": []
  },
  {
   "cell_type": "code",
   "execution_count": null,
   "id": "f9a85058",
   "metadata": {},
   "outputs": [],
   "source": []
  }
 ],
 "metadata": {
  "kernelspec": {
   "display_name": "Python 3 (ipykernel)",
   "language": "python",
   "name": "python3"
  },
  "language_info": {
   "codemirror_mode": {
    "name": "ipython",
    "version": 3
   },
   "file_extension": ".py",
   "mimetype": "text/x-python",
   "name": "python",
   "nbconvert_exporter": "python",
   "pygments_lexer": "ipython3",
   "version": "3.9.13"
  },
  "toc": {
   "base_numbering": 1,
   "nav_menu": {},
   "number_sections": true,
   "sideBar": true,
   "skip_h1_title": false,
   "title_cell": "Table of Contents",
   "title_sidebar": "Contents",
   "toc_cell": false,
   "toc_position": {
    "height": "calc(100% - 180px)",
    "left": "10px",
    "top": "150px",
    "width": "384px"
   },
   "toc_section_display": true,
   "toc_window_display": true
  },
  "varInspector": {
   "cols": {
    "lenName": 16,
    "lenType": 16,
    "lenVar": 40
   },
   "kernels_config": {
    "python": {
     "delete_cmd_postfix": "",
     "delete_cmd_prefix": "del ",
     "library": "var_list.py",
     "varRefreshCmd": "print(var_dic_list())"
    },
    "r": {
     "delete_cmd_postfix": ") ",
     "delete_cmd_prefix": "rm(",
     "library": "var_list.r",
     "varRefreshCmd": "cat(var_dic_list()) "
    }
   },
   "types_to_exclude": [
    "module",
    "function",
    "builtin_function_or_method",
    "instance",
    "_Feature"
   ],
   "window_display": false
  }
 },
 "nbformat": 4,
 "nbformat_minor": 5
}
